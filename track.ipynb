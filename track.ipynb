{
 "cells": [
  {
   "cell_type": "code",
   "execution_count": 2,
   "id": "03cb360f-76c1-46e8-8189-778b6ba25423",
   "metadata": {},
   "outputs": [],
   "source": [
    "import os\n",
    "from tqdm import tqdm\n",
    "import time"
   ]
  },
  {
   "cell_type": "code",
   "execution_count": 3,
   "id": "57d7bc8c-bab3-4a09-8579-498c9c98f5eb",
   "metadata": {},
   "outputs": [],
   "source": [
    "origin_dir = 'frames/Original'\n",
    "tracked_dir = 'frames/Original'"
   ]
  },
  {
   "cell_type": "code",
   "execution_count": 4,
   "id": "b8c1d60a-2a0f-4c7f-9117-9bcd98b56c58",
   "metadata": {},
   "outputs": [],
   "source": [
    "numogf = len([name for name in os.listdir(origin_dir) if \".png\" in name])\n",
    "currentfiles = len([name for name in os.listdir(tracked_dir) if \".png\" in name])"
   ]
  },
  {
   "cell_type": "code",
   "execution_count": null,
   "id": "c8db8255-a468-415b-b01f-21ab49af9ae5",
   "metadata": {},
   "outputs": [
    {
     "name": "stderr",
     "output_type": "stream",
     "text": [
      "CurrentFiles 5800:   6%|▌         | 5800/104257 [01:13<1:13:18, 22.38it/s]   "
     ]
    }
   ],
   "source": [
    "pbar = tqdm(total=numogf)\n",
    "pbar.update(currentfiles)\n",
    "while currentfiles <= numogf:\n",
    "    newcount = len([name for name in os.listdir(tracked_dir) if \".png\" in name])\n",
    "    if newcount > currentfiles:\n",
    "        nup = newcount-currentfiles\n",
    "        currentfiles = newcount\n",
    "        pbar.set_description(\"CurrentFiles %s\" % currentfiles)\n",
    "        pbar.update(nup)\n",
    "    time.sleep(1)"
   ]
  }
 ],
 "metadata": {
  "kernelspec": {
   "display_name": "Python 3",
   "language": "python",
   "name": "python3"
  },
  "language_info": {
   "codemirror_mode": {
    "name": "ipython",
    "version": 3
   },
   "file_extension": ".py",
   "mimetype": "text/x-python",
   "name": "python",
   "nbconvert_exporter": "python",
   "pygments_lexer": "ipython3",
   "version": "3.8.8"
  }
 },
 "nbformat": 4,
 "nbformat_minor": 5
}
