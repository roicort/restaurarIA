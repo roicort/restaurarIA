{
 "cells": [
  {
   "cell_type": "markdown",
   "metadata": {
    "gradient": {
     "editing": false
    },
    "id": "rirngW5uRMdg"
   },
   "source": []
  },
  {
   "cell_type": "code",
   "execution_count": null,
   "metadata": {
    "gradient": {
     "editing": false
    }
   },
   "outputs": [
    {
     "name": "stdout",
     "output_type": "stream",
     "text": [
      "name, driver_version, memory.total [MiB]\n",
      "Quadro M4000, 450.36.06, 8126 MiB\n"
     ]
    }
   ],
   "source": [
    "!nvidia-smi --query-gpu=gpu_name,driver_version,memory.total --format=csv"
   ]
  },
  {
   "cell_type": "code",
   "execution_count": null,
   "metadata": {
    "gradient": {
     "editing": false
    }
   },
   "outputs": [
    {
     "name": "stdout",
     "output_type": "stream",
     "text": [
      "Hit:1 http://security.ubuntu.com/ubuntu focal-security InRelease\n",
      "Hit:2 http://archive.ubuntu.com/ubuntu focal InRelease\n",
      "Hit:3 http://archive.ubuntu.com/ubuntu focal-updates InRelease\n",
      "Hit:4 http://archive.ubuntu.com/ubuntu focal-backports InRelease\n",
      "Reading package lists... Done\n",
      "Reading package lists... Done\n",
      "Building dependency tree       \n",
      "Reading state information... Done\n",
      "ffmpeg is already the newest version (7:4.2.4-1ubuntu0.1).\n",
      "0 upgraded, 0 newly installed, 0 to remove and 82 not upgraded.\n"
     ]
    }
   ],
   "source": [
    "!apt-get update && apt-get install ffmpeg"
   ]
  },
  {
   "cell_type": "code",
   "execution_count": null,
   "metadata": {
    "gradient": {
     "editing": false
    }
   },
   "outputs": [
    {
     "name": "stdout",
     "output_type": "stream",
     "text": [
      "Cloning into 'Practical-RIFE'...\n",
      "remote: Enumerating objects: 120, done.\u001b[K\n",
      "remote: Counting objects: 100% (120/120), done.\u001b[K\n",
      "remote: Compressing objects: 100% (113/113), done.\u001b[K\n",
      "remote: Total 120 (delta 55), reused 31 (delta 5), pack-reused 0\u001b[K\n",
      "Receiving objects: 100% (120/120), 2.65 MiB | 9.42 MiB/s, done.\n",
      "Resolving deltas: 100% (55/55), done.\n"
     ]
    }
   ],
   "source": [
    "!git clone https://github.com/hzwer/Practical-RIFE "
   ]
  },
  {
   "cell_type": "code",
   "execution_count": null,
   "metadata": {
    "gradient": {
     "editing": false
    }
   },
   "outputs": [
    {
     "name": "stdout",
     "output_type": "stream",
     "text": [
      "Requirement already satisfied: numpy>=1.16 in /opt/conda/lib/python3.8/site-packages (from -r Practical-RIFE/requirements.txt (line 1)) (1.19.2)\n",
      "Requirement already satisfied: tqdm>=4.35.0 in /opt/conda/lib/python3.8/site-packages (from -r Practical-RIFE/requirements.txt (line 2)) (4.53.0)\n",
      "Requirement already satisfied: sk-video>=1.1.10 in /opt/conda/lib/python3.8/site-packages (from -r Practical-RIFE/requirements.txt (line 3)) (1.1.10)\n",
      "Requirement already satisfied: torch>=1.3.0 in /opt/conda/lib/python3.8/site-packages (from -r Practical-RIFE/requirements.txt (line 4)) (1.8.0a0+52ea372)\n",
      "Requirement already satisfied: opencv-python>=4.1.2 in /opt/conda/lib/python3.8/site-packages (from -r Practical-RIFE/requirements.txt (line 5)) (4.4.0.46)\n",
      "Requirement already satisfied: moviepy>=1.0.3 in /opt/conda/lib/python3.8/site-packages (from -r Practical-RIFE/requirements.txt (line 6)) (1.0.3)\n",
      "Requirement already satisfied: scipy in /opt/conda/lib/python3.8/site-packages (from sk-video>=1.1.10->-r Practical-RIFE/requirements.txt (line 3)) (1.6.0)\n",
      "Requirement already satisfied: typing-extensions in /opt/conda/lib/python3.8/site-packages (from torch>=1.3.0->-r Practical-RIFE/requirements.txt (line 4)) (3.7.4.3)\n",
      "Requirement already satisfied: proglog<=1.0.0 in /opt/conda/lib/python3.8/site-packages (from moviepy>=1.0.3->-r Practical-RIFE/requirements.txt (line 6)) (0.1.9)\n",
      "Requirement already satisfied: requests<3.0,>=2.8.1 in /opt/conda/lib/python3.8/site-packages (from moviepy>=1.0.3->-r Practical-RIFE/requirements.txt (line 6)) (2.24.0)\n",
      "Requirement already satisfied: imageio-ffmpeg>=0.2.0; python_version >= \"3.4\" in /opt/conda/lib/python3.8/site-packages (from moviepy>=1.0.3->-r Practical-RIFE/requirements.txt (line 6)) (0.4.5)\n",
      "Requirement already satisfied: decorator<5.0,>=4.0.2 in /opt/conda/lib/python3.8/site-packages (from moviepy>=1.0.3->-r Practical-RIFE/requirements.txt (line 6)) (4.4.2)\n",
      "Requirement already satisfied: imageio<3.0,>=2.5; python_version >= \"3.4\" in /opt/conda/lib/python3.8/site-packages (from moviepy>=1.0.3->-r Practical-RIFE/requirements.txt (line 6)) (2.9.0)\n",
      "Requirement already satisfied: idna<3,>=2.5 in /opt/conda/lib/python3.8/site-packages (from requests<3.0,>=2.8.1->moviepy>=1.0.3->-r Practical-RIFE/requirements.txt (line 6)) (2.10)\n",
      "Requirement already satisfied: urllib3!=1.25.0,!=1.25.1,<1.26,>=1.21.1 in /opt/conda/lib/python3.8/site-packages (from requests<3.0,>=2.8.1->moviepy>=1.0.3->-r Practical-RIFE/requirements.txt (line 6)) (1.25.11)\n",
      "Requirement already satisfied: chardet<4,>=3.0.2 in /opt/conda/lib/python3.8/site-packages (from requests<3.0,>=2.8.1->moviepy>=1.0.3->-r Practical-RIFE/requirements.txt (line 6)) (3.0.4)\n",
      "Requirement already satisfied: certifi>=2017.4.17 in /opt/conda/lib/python3.8/site-packages (from requests<3.0,>=2.8.1->moviepy>=1.0.3->-r Practical-RIFE/requirements.txt (line 6)) (2020.12.5)\n",
      "Requirement already satisfied: pillow in /opt/conda/lib/python3.8/site-packages (from imageio<3.0,>=2.5; python_version >= \"3.4\"->moviepy>=1.0.3->-r Practical-RIFE/requirements.txt (line 6)) (8.3.1)\n"
     ]
    }
   ],
   "source": [
    "!pip install -r Practical-RIFE/requirements.txt"
   ]
  },
  {
   "cell_type": "code",
   "execution_count": null,
   "metadata": {
    "gradient": {
     "editing": false
    }
   },
   "outputs": [
    {
     "name": "stdout",
     "output_type": "stream",
     "text": [
      "usage: inference_video.py [-h] [--video VIDEO] [--output OUTPUT] [--img IMG]\n",
      "                          [--montage] [--model MODELDIR] [--fp16] [--UHD]\n",
      "                          [--scale SCALE] [--skip] [--fps FPS] [--png]\n",
      "                          [--ext EXT] [--exp EXP]\n",
      "\n",
      "Interpolation for a pair of images\n",
      "\n",
      "optional arguments:\n",
      "  -h, --help        show this help message and exit\n",
      "  --video VIDEO\n",
      "  --output OUTPUT\n",
      "  --img IMG\n",
      "  --montage         montage origin video\n",
      "  --model MODELDIR  directory with trained model files\n",
      "  --fp16            fp16 mode for faster and more lightweight inference on\n",
      "                    cards with Tensor Cores\n",
      "  --UHD             support 4k video\n",
      "  --scale SCALE     Try scale=0.5 for 4k video\n",
      "  --skip            whether to remove static frames before processing\n",
      "  --fps FPS\n",
      "  --png             whether to vid_out png format vid_outs\n",
      "  --ext EXT         vid_out video extension\n",
      "  --exp EXP\n"
     ]
    }
   ],
   "source": [
    "!python Practical-RIFE/inference_video.py -h"
   ]
  },
  {
   "cell_type": "code",
   "execution_count": null,
   "metadata": {
    "gradient": {
     "editing": false
    }
   },
   "outputs": [
    {
     "name": "stdout",
     "output_type": "stream",
     "text": [
      "/notebooks/Practical-RIFE\n",
      "Loaded v3.x HD model.\n",
      "../carretera.mp4, 12488.0 frames in total, 24.0FPS to 96.0FPS\n",
      "The audio will be merged after interpolation process\n",
      "  1%|▍                                  | 145/12488.0 [02:28<3:24:32,  1.01it/s]\n",
      "Warning: Your video has 100 static frames, skipping them may change the duration of the generated video.\n",
      "  2%|▊                                  | 304/12488.0 [05:03<3:21:35,  1.01it/s]\n",
      "Warning: Your video has 200 static frames, skipping them may change the duration of the generated video.\n",
      "  3%|█▏                                 | 408/12488.0 [06:46<3:20:43,  1.00it/s]\n",
      "Warning: Your video has 300 static frames, skipping them may change the duration of the generated video.\n",
      "  4%|█▍                                 | 530/12488.0 [08:47<3:17:54,  1.01it/s]\n",
      "Warning: Your video has 400 static frames, skipping them may change the duration of the generated video.\n",
      "  5%|█▊                                 | 630/12488.0 [10:27<3:16:35,  1.01it/s]\n",
      "Warning: Your video has 500 static frames, skipping them may change the duration of the generated video.\n",
      "  6%|██                                 | 737/12488.0 [12:13<3:14:37,  1.01it/s]\n",
      "Warning: Your video has 600 static frames, skipping them may change the duration of the generated video.\n",
      "  8%|██▊                               | 1034/12488.0 [17:01<3:09:36,  1.01it/s]\n",
      "Warning: Your video has 700 static frames, skipping them may change the duration of the generated video.\n",
      " 11%|███▋                              | 1359/12488.0 [22:14<3:04:51,  1.00it/s]\n",
      "Warning: Your video has 800 static frames, skipping them may change the duration of the generated video.\n",
      " 13%|████▎                             | 1581/12488.0 [25:54<3:00:33,  1.01it/s]\n",
      "Warning: Your video has 900 static frames, skipping them may change the duration of the generated video.\n",
      " 20%|██████▉                           | 2528/12488.0 [41:22<2:45:21,  1.00it/s]\n",
      "Warning: Your video has 1000 static frames, skipping them may change the duration of the generated video.\n",
      " 49%|███████████████▋                | 6116/12488.0 [1:36:09<1:43:26,  1.03it/s]\n",
      "Warning: Your video has 1100 static frames, skipping them may change the duration of the generated video.\n",
      " 50%|███████████████▉                | 6216/12488.0 [1:37:48<1:43:49,  1.01it/s]\n",
      "Warning: Your video has 1200 static frames, skipping them may change the duration of the generated video.\n",
      " 51%|████████████████▏               | 6324/12488.0 [1:39:32<1:42:00,  1.01it/s]\n",
      "Warning: Your video has 1300 static frames, skipping them may change the duration of the generated video.\n",
      " 51%|████████████████▍               | 6428/12488.0 [1:41:15<1:40:21,  1.01it/s]\n",
      "Warning: Your video has 1400 static frames, skipping them may change the duration of the generated video.\n",
      " 52%|████████████████▊               | 6544/12488.0 [1:43:09<1:38:41,  1.00it/s]\n",
      "Warning: Your video has 1500 static frames, skipping them may change the duration of the generated video.\n",
      " 53%|█████████████████               | 6658/12488.0 [1:45:02<1:36:23,  1.01it/s]\n",
      "Warning: Your video has 1600 static frames, skipping them may change the duration of the generated video.\n",
      " 54%|█████████████████▎              | 6771/12488.0 [1:46:54<1:34:39,  1.01it/s]\n",
      "Warning: Your video has 1700 static frames, skipping them may change the duration of the generated video.\n",
      " 55%|█████████████████▌              | 6878/12488.0 [1:48:40<1:30:52,  1.03it/s]\n",
      "Warning: Your video has 1800 static frames, skipping them may change the duration of the generated video.\n",
      " 59%|██████████████████▊             | 7335/12488.0 [1:56:10<1:25:06,  1.01it/s]\n",
      "Warning: Your video has 1900 static frames, skipping them may change the duration of the generated video.\n",
      " 63%|████████████████████▎           | 7922/12488.0 [2:05:53<1:15:33,  1.01it/s]"
     ]
    }
   ],
   "source": [
    "%cd Practical-RIFE \n",
    "!python inference_video.py --exp=2 --video=../carretera.mp4 \n",
    "%cd .."
   ]
  },
  {
   "cell_type": "code",
   "execution_count": null,
   "metadata": {
    "gradient": {
     "editing": false
    }
   },
   "outputs": [],
   "source": []
  }
 ],
 "metadata": {
  "accelerator": "GPU",
  "colab": {
   "include_colab_link": true,
   "name": "Untitled0.ipynb",
   "provenance": []
  },
  "kernelspec": {
   "display_name": "Python 3",
   "language": "python",
   "name": "python3"
  },
  "language_info": {
   "codemirror_mode": {
    "name": "ipython",
    "version": 3
   },
   "file_extension": ".py",
   "mimetype": "text/x-python",
   "name": "python",
   "nbconvert_exporter": "python",
   "pygments_lexer": "ipython3",
   "version": "3.8.5"
  }
 },
 "nbformat": 4,
 "nbformat_minor": 4
}
