{
 "cells": [
  {
   "cell_type": "markdown",
   "metadata": {},
   "source": [
    "# RestaurarIA"
   ]
  },
  {
   "cell_type": "code",
   "execution_count": 1,
   "metadata": {},
   "outputs": [],
   "source": [
    "import os"
   ]
  },
  {
   "cell_type": "markdown",
   "metadata": {},
   "source": [
    "#### Check GPU"
   ]
  },
  {
   "cell_type": "code",
   "execution_count": null,
   "metadata": {},
   "outputs": [],
   "source": [
    "!nvidia-smi --query-gpu=gpu_name,driver_version,memory.total --format=csv"
   ]
  },
  {
   "cell_type": "markdown",
   "metadata": {},
   "source": [
    "#### Clone Dependencies"
   ]
  },
  {
   "cell_type": "code",
   "execution_count": null,
   "metadata": {},
   "outputs": [],
   "source": [
    "!mkdir src && mkdir frames"
   ]
  },
  {
   "cell_type": "code",
   "execution_count": null,
   "metadata": {},
   "outputs": [],
   "source": [
    "%cd src"
   ]
  },
  {
   "cell_type": "code",
   "execution_count": null,
   "metadata": {},
   "outputs": [],
   "source": [
    "!wget https://github.com/nihui/rife-ncnn-vulkan/releases/download/20210520/rife-ncnn-vulkan-20210520-ubuntu.zip #RIFE"
   ]
  },
  {
   "cell_type": "code",
   "execution_count": null,
   "metadata": {},
   "outputs": [],
   "source": [
    "!wget https://github.com/nihui/waifu2x-ncnn-vulkan/releases/download/20210521/waifu2x-ncnn-vulkan-20210521-ubuntu.zip #WAIFU2X"
   ]
  },
  {
   "cell_type": "code",
   "execution_count": null,
   "metadata": {},
   "outputs": [],
   "source": [
    "!wget https://github.com/nihui/realsr-ncnn-vulkan/releases/download/20210210/realsr-ncnn-vulkan-20210210-ubuntu.zip #REALSR"
   ]
  },
  {
   "cell_type": "code",
   "execution_count": null,
   "metadata": {},
   "outputs": [],
   "source": [
    "!unzip rife-ncnn-vulkan-20210520-ubuntu.zip && rm rife-ncnn-vulkan-20210520-ubuntu.zip"
   ]
  },
  {
   "cell_type": "code",
   "execution_count": null,
   "metadata": {},
   "outputs": [],
   "source": [
    "!unzip waifu2x-ncnn-vulkan-20210521-ubuntu.zip && rm waifu2x-ncnn-vulkan-20210521-ubuntu.zip"
   ]
  },
  {
   "cell_type": "code",
   "execution_count": null,
   "metadata": {},
   "outputs": [],
   "source": [
    "!unzip realsr-ncnn-vulkan-20210210-ubuntu.zip && rm realsr-ncnn-vulkan-20210210-ubuntu.zip"
   ]
  },
  {
   "cell_type": "code",
   "execution_count": null,
   "metadata": {},
   "outputs": [],
   "source": [
    "%cd .."
   ]
  },
  {
   "cell_type": "markdown",
   "metadata": {},
   "source": [
    "#### Install "
   ]
  },
  {
   "cell_type": "code",
   "execution_count": null,
   "metadata": {},
   "outputs": [],
   "source": [
    "!apt-get update && apt-get install ffmpeg"
   ]
  },
  {
   "cell_type": "markdown",
   "metadata": {},
   "source": [
    "#### Config"
   ]
  },
  {
   "cell_type": "code",
   "execution_count": null,
   "metadata": {},
   "outputs": [],
   "source": [
    "################# Required Configurations ############################\n",
    "\n",
    "inputfile = \"inspector.mp4\" #param{type:\"string\"}\n",
    "\n",
    "outputfile = \"inspectorRest.mp4\" #param{type:\"string\"}"
   ]
  },
  {
   "cell_type": "code",
   "execution_count": null,
   "metadata": {},
   "outputs": [],
   "source": [
    "################# EX Config ############################\n",
    "\n",
    "RIFE = \"./src/rife-ncnn-vulkan-20210520-ubuntu/rife-ncnn-vulkan\" #param{type:\"string\"}\n",
    "WAIFU2X = \"./src/waifu2x-ncnn-vulkan-20210521-ubuntu/waifu2x-ncnn-vulkan\" #param{type:\"string\"}\n",
    "REALSR = \"./src/realsr-ncnn-vulkan-20210210-ubuntu/realsr-ncnn-vulkan\" #param{type:\"string\"}\n"
   ]
  },
  {
   "cell_type": "code",
   "execution_count": null,
   "metadata": {},
   "outputs": [],
   "source": [
    "################# Aux paths ############################\n",
    "\n",
    "Original_Frames = 'frames/Original' #@param{type:\"string\"}\n",
    "\n",
    "HD_Frames = 'frames/HD' #@param{type:\"string\"}\n",
    "\n",
    "HFR_Frames = 'frames/HFR' #@param{type:\"string\"}"
   ]
  },
  {
   "cell_type": "code",
   "execution_count": null,
   "metadata": {},
   "outputs": [],
   "source": [
    "####### TELEGRAM SETTINGS \n",
    "\n",
    "from telegram_notifier import set_config_options\n",
    "from telegram_notifier import Notifier\n",
    "\n",
    "TOKEN = '1661115267:AAFQ6ED6lZjKkedrk-uD50GIZUfry-Y_iLg'\n",
    "MYID = '45762408'\n",
    "\n",
    "set_config_options(chat_id=MYID, token=TOKEN)"
   ]
  },
  {
   "cell_type": "markdown",
   "metadata": {},
   "source": [
    "#### Check Video Settings"
   ]
  },
  {
   "cell_type": "code",
   "execution_count": null,
   "metadata": {},
   "outputs": [],
   "source": [
    "!ffprobe '{inputfile}'"
   ]
  },
  {
   "cell_type": "markdown",
   "metadata": {},
   "source": [
    "#### Extract Audio"
   ]
  },
  {
   "cell_type": "code",
   "execution_count": null,
   "metadata": {},
   "outputs": [],
   "source": [
    "!ffmpeg -i '{inputfile}' -vn -acodec copy audio.m4a"
   ]
  },
  {
   "cell_type": "markdown",
   "metadata": {},
   "source": [
    "#### Extract Frames"
   ]
  },
  {
   "cell_type": "code",
   "execution_count": null,
   "metadata": {},
   "outputs": [],
   "source": [
    "rm -R '{Original_Frames}' && rm -R '{HD_Frames}' && rm -R '{HFR_Frames}'"
   ]
  },
  {
   "cell_type": "code",
   "execution_count": null,
   "metadata": {},
   "outputs": [],
   "source": [
    "mkdir '{Original_Frames}' && mkdir '{HD_Frames}' && mkdir '{HFR_Frames}'"
   ]
  },
  {
   "cell_type": "code",
   "execution_count": null,
   "metadata": {},
   "outputs": [],
   "source": [
    "with Notifier(\"Extracting Frames\"):\n",
    "    !ffmpeg -r 24 -i '{inputfile}' '{Original_Frames}/%08d.png'\n",
    "    pass"
   ]
  },
  {
   "cell_type": "code",
   "execution_count": null,
   "metadata": {},
   "outputs": [],
   "source": [
    "numogf = len([name for name in os.listdir('Original_Frames') if os.path.isfile(name)])"
   ]
  },
  {
   "cell_type": "markdown",
   "metadata": {},
   "source": [
    "#### Processing Video"
   ]
  },
  {
   "cell_type": "code",
   "execution_count": null,
   "metadata": {},
   "outputs": [],
   "source": [
    "with Notifier(\"REALSR\"):\n",
    "    !'{REALSR}' -i '{HFR_Frames}' -o '{HD_Frames}' -s 4 -j 4:4:4 -m models-DF2K -x\n",
    "    pass"
   ]
  },
  {
   "cell_type": "code",
   "execution_count": null,
   "metadata": {},
   "outputs": [],
   "source": [
    "with Notifier(\"WAIFU2X\"):\n",
    "    !'{WAIFU2X}' -i '{HFR_Frames}' -o '{HD_Frames}' -s 4 -n 0 -j 4:4:4 -x\n",
    "    pass"
   ]
  },
  {
   "cell_type": "code",
   "execution_count": null,
   "metadata": {},
   "outputs": [],
   "source": [
    "with Notifier(\"RIFE\"):\n",
    "    !'{RIFE}' -i '{Original_Frames}' -o '{HFR_Frames}' -j 4:4:4 -m rife-v3.1 -u -x \n",
    "    pass"
   ]
  },
  {
   "cell_type": "markdown",
   "metadata": {},
   "source": [
    "#### Encode Video"
   ]
  },
  {
   "cell_type": "code",
   "execution_count": null,
   "metadata": {},
   "outputs": [],
   "source": [
    "with Notifier(\"Encoding Video\"):\n",
    "    !ffmpeg -framerate 48 -i frames/HD/%08d.png -i audio.m4a -c:a copy -crf 20 -c:v libx264 -pix_fmt yuv420p '{outputfile}'\n",
    "    pass"
   ]
  }
 ],
 "metadata": {
  "kernelspec": {
   "name": "python3",
   "display_name": "Python 3.8.10 64-bit ('base': conda)"
  },
  "language_info": {
   "codemirror_mode": {
    "name": "ipython",
    "version": 3
   },
   "file_extension": ".py",
   "mimetype": "text/x-python",
   "name": "python",
   "nbconvert_exporter": "python",
   "pygments_lexer": "ipython3",
   "version": "3.8.10"
  },
  "interpreter": {
   "hash": "04cda0fb3fa1f369353a4d4a5d00ac777dda45d3dca5c8ffd4d8ac0101210f5a"
  }
 },
 "nbformat": 4,
 "nbformat_minor": 4
}